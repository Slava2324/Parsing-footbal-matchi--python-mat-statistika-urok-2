{
 "cells": [
  {
   "cell_type": "code",
   "execution_count": 2,
   "id": "047280b5-d8e6-4cfa-9d8b-3e53cdb4cf6b",
   "metadata": {},
   "outputs": [],
   "source": [
    "from selenium import webdriver\n",
    "from selenium.webdriver.chrome.options import Options\n",
    "from selenium.webdriver.common.by import By\n",
    "from selenium.webdriver.chrome.service import Service\n",
    "import pandas as pd\n",
    "from IPython.display import display, HTML"
   ]
  },
  {
   "cell_type": "code",
   "execution_count": 1,
   "id": "40643c27-a3d8-4518-8eab-e2a7011b57dc",
   "metadata": {
    "scrolled": true
   },
   "outputs": [
    {
     "ename": "NameError",
     "evalue": "name 'Options' is not defined",
     "output_type": "error",
     "traceback": [
      "\u001b[1;31m---------------------------------------------------------------------------\u001b[0m",
      "\u001b[1;31mNameError\u001b[0m                                 Traceback (most recent call last)",
      "Cell \u001b[1;32mIn[1], line 1\u001b[0m\n\u001b[1;32m----> 1\u001b[0m custom_options \u001b[38;5;241m=\u001b[39m \u001b[43mOptions\u001b[49m()\n\u001b[0;32m      2\u001b[0m custom_options\u001b[38;5;241m.\u001b[39madd_argument(\u001b[38;5;124m\"\u001b[39m\u001b[38;5;124m--start-maximized\u001b[39m\u001b[38;5;124m\"\u001b[39m)\n\u001b[0;32m      3\u001b[0m driver \u001b[38;5;241m=\u001b[39m webdriver\u001b[38;5;241m.\u001b[39mChrome(options\u001b[38;5;241m=\u001b[39mcustom_options) \n",
      "\u001b[1;31mNameError\u001b[0m: name 'Options' is not defined"
     ]
    }
   ],
   "source": [
    "custom_options = Options()\n",
    "custom_options.add_argument(\"--start-maximized\")\n",
    "driver = webdriver.Chrome(options=custom_options) \n",
    "link = 'https://www.flashscorekz.com/'\n"
   ]
  },
  {
   "cell_type": "code",
   "execution_count": null,
   "id": "908ab84c-4eb2-4e2d-8a3a-c430ef29d614",
   "metadata": {},
   "outputs": [],
   "source": [
    "driver.get(link)\n",
    "print(\"opened driver\")\n",
    "\n",
    "class_to_find = \"event__match\"\n",
    "\n",
    "elements = driver.find_elements(By.CLASS_NAME, class_to_find)\n",
    "print(\"got elements\")\n",
    "\n",
    "matches = []\n",
    "for element in elements:\n",
    "    matches.append(element.text.splitlines())\n",
    "\n",
    "data_ = []\n",
    "\n",
    "for match in matches:\n",
    "    data_.append({\n",
    "        \"status\": match[0],\n",
    "        \"team_1\": match[1],\n",
    "        \"team_2\": match[2],\n",
    "        \"goals_1\": match[3],\n",
    "        \"goals_2\": match[4],\n",
    "    })\n",
    "print(\"sorted data\")\n",
    "    \n",
    "\n",
    "df = pd.DataFrame(data=data_)\n",
    "print(\"created dataframe\")\n",
    "df.to_excel(\"output.xlsx\")\n",
    "print(\"saved dataframe\")\n",
    "display(HTML(df.to_html()))\n",
    "print(\"showed dataframe\")\n",
    "driver.close()\n",
    "print(\"closed driver\")\n",
    "    "
   ]
  },
  {
   "cell_type": "code",
   "execution_count": null,
   "id": "07475c33-e210-4f43-ba41-0783751b5892",
   "metadata": {},
   "outputs": [],
   "source": []
  }
 ],
 "metadata": {
  "kernelspec": {
   "display_name": "Python 3 (ipykernel)",
   "language": "python",
   "name": "python3"
  },
  "language_info": {
   "codemirror_mode": {
    "name": "ipython",
    "version": 3
   },
   "file_extension": ".py",
   "mimetype": "text/x-python",
   "name": "python",
   "nbconvert_exporter": "python",
   "pygments_lexer": "ipython3",
   "version": "3.12.8"
  }
 },
 "nbformat": 4,
 "nbformat_minor": 5
}
